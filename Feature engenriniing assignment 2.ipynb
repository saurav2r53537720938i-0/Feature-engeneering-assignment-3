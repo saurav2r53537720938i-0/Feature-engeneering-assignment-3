{
 "cells": [
  {
   "cell_type": "markdown",
   "id": "c7ababf9-e352-4f93-a550-b878e28665a5",
   "metadata": {},
   "source": [
    "The filter method in feature selection involes selecting feature based on their statistical properties suchh as correlation with the target variable or information gain.it works by evaluating each feature independent of the others and ranking them based on certain criteria.Feature with the hightest score are slected for the highest score are selected for the model.This method is computationally efficent but may not consider interaction between features."
   ]
  },
  {
   "cell_type": "markdown",
   "id": "e7ba83da-9d43-4e70-a244-6076ba7be747",
   "metadata": {},
   "source": [
    "The wrapper method differs from the filter method in feature slection by evaluating subsets of feature based on the  performance of a specfic machine learning model.it works by creating diffrent combination of feature,traning a model.it works by creating diffrent combination of feature training model on each sbset and slecting the subset that yields the best performance according to a chosen evaluation metric .unlike the filter method wrapper method consider the interaction between feature but can be computationally expensive especially for large feature sets."
   ]
  },
  {
   "cell_type": "markdown",
   "id": "01a59c3d-ef6d-411f-b20a-28fe3bbdf481",
   "metadata": {},
   "source": [
    "Some common techniques used in embedded feature selection method include:\n",
    "1. Lasso Regression:\n",
    "2. Ride Regression\n",
    "3. Elastic Net\n",
    "4. Decision Trees\n",
    "5. Regularized linear model\n",
    "6. Recursive Feature"
   ]
  },
  {
   "cell_type": "markdown",
   "id": "fc5ccd5c-85b0-4d90-bb30-93d9a5e13cc1",
   "metadata": {},
   "source": [
    "Some drawbacks of using the filter method evaluates feature slection are:\n",
    "1. Independence Assumption\n",
    "2. Lack of model feedback\n",
    "3. Limited to univariate Analysis\n",
    "4. Ignoring Redundancy\n",
    "5. Senitivity to feature scalling\n",
    "6. Difficulty handling non-linear"
   ]
  },
  {
   "cell_type": "markdown",
   "id": "6163be51-6551-4b02-b3f8-6a3ee979db9d",
   "metadata": {},
   "source": [
    "You might prfer using the filter method over the wrapper method for feature slection in situation are:\n",
    "1. Large Feature Space\n",
    "2. Preprocessing\n",
    "3. Independence Assumption\n",
    "4. Exploration"
   ]
  },
  {
   "cell_type": "markdown",
   "id": "82a5fae0-9749-48db-a9a0-dcb9f49fd76c",
   "metadata": {},
   "source": [
    "To choose the most pertinent attributes for the predictive model of customer churn using the filter method,i would follow these steps are:\n",
    "1. Understanding the data\n",
    "2. Define target variable\n",
    "3. Explore Feature Relevance\n",
    "4. Select top feature\n",
    "5. Validate selection\n",
    "6. iterate and refine"
   ]
  },
  {
   "cell_type": "markdown",
   "id": "aed01a4a-5d68-4c9e-955f-8328daba8204",
   "metadata": {},
   "source": [
    "It seems there might be a typo in your question did you mean to refer to the RFE method instead of Ratten i can provide guidance on how to use Recursive feature elimnation to slect the best of feature for predicting house price:\n",
    "1. Choose a model\n",
    "2. Define the number of feature\n",
    "3. Initalize RFE\n",
    "4. fit RFE to data\n",
    "5. "
   ]
  }
 ],
 "metadata": {
  "kernelspec": {
   "display_name": "Python 3 (ipykernel)",
   "language": "python",
   "name": "python3"
  },
  "language_info": {
   "codemirror_mode": {
    "name": "ipython",
    "version": 3
   },
   "file_extension": ".py",
   "mimetype": "text/x-python",
   "name": "python",
   "nbconvert_exporter": "python",
   "pygments_lexer": "ipython3",
   "version": "3.10.8"
  }
 },
 "nbformat": 4,
 "nbformat_minor": 5
}
